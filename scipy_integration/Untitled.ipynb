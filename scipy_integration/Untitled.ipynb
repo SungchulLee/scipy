{
 "cells": [
  {
   "cell_type": "code",
   "execution_count": 3,
   "metadata": {},
   "outputs": [
    {
     "name": "stdout",
     "output_type": "stream",
     "text": [
      "24.366995967084602\n",
      "24.374754718086752\n",
      "24.374754718086713\n",
      "24.352733271544516\n",
      "24.37496418455075\n"
     ]
    }
   ],
   "source": [
    "import scipy.integrate as sci\n",
    "import numpy as np\n",
    "def f(x): return np.sin(x) + 0.5 * x\n",
    "a = 0.5  # left integral limit\n",
    "b = 9.5  # right integral limit\n",
    "xi = np.linspace(a, b, 25) \n",
    "print(sci.fixed_quad(f, a, b)[0]) # Gaussian quadrature of order n\n",
    "print(sci.quad(f, a, b)[0]) # Fortran library QUADPACK\n",
    "print(sci.romberg(f, a, b)) # Romberg integration\n",
    "print(sci.trapz(f(xi), xi)) # Composite trapezoidal rule\n",
    "print(sci.simps(f(xi), xi)) # Composite Simpson’s rule"
   ]
  },
  {
   "cell_type": "code",
   "execution_count": 4,
   "metadata": {},
   "outputs": [
    {
     "name": "stdout",
     "output_type": "stream",
     "text": [
      "24.352733271544516\n"
     ]
    }
   ],
   "source": [
    "# Composite trapezoidal rule\n",
    "import numpy as np\n",
    "def f(x): return np.sin(x) + 0.5 * x\n",
    "a = 0.5  # left integral limit\n",
    "b = 9.5  # right integral limit\n",
    "xi = np.linspace(a, b, 25)\n",
    "delta_x = xi[1] - xi[0]\n",
    "xi_left = xi[:-1]\n",
    "xi_right = xi[1:]\n",
    "trapz = (delta_x/2) * np.sum(f(xi_left)+f(xi_right))\n",
    "print(trapz)"
   ]
  },
  {
   "cell_type": "markdown",
   "metadata": {},
   "source": [
    "Compute the following integral using composite Simpson’s rule\n",
    "with 25 equally-spaced grid points or 24 equal-size subintervals:\n",
    "$$\n",
    "\\int_{0.5}^{9.5}\\sin(x)+0.5xdx\n",
    "$$"
   ]
  },
  {
   "cell_type": "code",
   "execution_count": null,
   "metadata": {},
   "outputs": [],
   "source": []
  }
 ],
 "metadata": {
  "kernelspec": {
   "display_name": "Python 3",
   "language": "python",
   "name": "python3"
  },
  "language_info": {
   "codemirror_mode": {
    "name": "ipython",
    "version": 3
   },
   "file_extension": ".py",
   "mimetype": "text/x-python",
   "name": "python",
   "nbconvert_exporter": "python",
   "pygments_lexer": "ipython3",
   "version": "3.6.9"
  }
 },
 "nbformat": 4,
 "nbformat_minor": 2
}
